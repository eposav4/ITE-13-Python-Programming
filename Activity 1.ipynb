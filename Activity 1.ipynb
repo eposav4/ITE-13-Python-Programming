{
 "cells": [
  {
   "attachments": {},
   "cell_type": "markdown",
   "metadata": {},
   "source": [
    "Python Code that Converts Celsius to Kelvin and Fahrenheit"
   ]
  },
  {
   "cell_type": "code",
   "execution_count": null,
   "metadata": {},
   "outputs": [],
   "source": [
    "#Function to convert Celsius to Kelvin\n",
    "def to_kelvin(var):\n",
    "    return var + 273.15\n",
    "\n",
    "#Function to convert Celsius to Fahrenheit\n",
    "def to_fahrenheit(var):\n",
    "    return var * 1.80 + 32.00\n",
    "\n",
    "#Input Statement to Enter the Celsius\n",
    "celsius = float(input(\"Enter a Tempereture Celsius: \"))\n",
    "\n",
    "#Check input if it is a non-negative float or integer number\n",
    "if celsius < 0:\n",
    "    print(\"Input Error\")\n",
    "else:\n",
    "    print(\"The value of Kelvin is\",to_kelvin(celsius))\n",
    "    print(\"The value of Fahrenheit is\",to_fahrenheit(celsius))\n"
   ]
  },
  {
   "attachments": {},
   "cell_type": "markdown",
   "metadata": {},
   "source": [
    "Python Code that solves a 4-sided polygon's Perimeter and Area"
   ]
  },
  {
   "cell_type": "code",
   "execution_count": null,
   "metadata": {},
   "outputs": [],
   "source": [
    "#Function to solve the 4-sided Polygon\n",
    "#In this Function it will check if the length and width is for rectangle or square\n",
    "#It will return perimeter of a rectangle if length and Width is not the same otherwise it will return area of a square\n",
    "def rect_or_square(var1,var2):\n",
    "    if var1 == var2:\n",
    "        return \"The Area of a Square is\",var1*var2 #two return value\n",
    "    else:\n",
    "        return \"The Perimeter of a Rectangle is\",2*(var1+var2) #two return value\n",
    "\n",
    "#Input statement to Enter the Length and Width\n",
    "a = float(input(\"Enter the value of Length: \"))\n",
    "b = float(input(\"Enter the value of Width: \"))\n",
    "\n",
    "#Check if the value of length and Width is non-zero or non-negative integer and float\n",
    "if a<=0 or b <=0:\n",
    "    print(\"Input Error\")\n",
    "else:\n",
    "    text, value = rect_or_square(a,b)\n",
    "    print(text,value)"
   ]
  }
 ],
 "metadata": {
  "kernelspec": {
   "display_name": "ite-13",
   "language": "python",
   "name": "python3"
  },
  "language_info": {
   "codemirror_mode": {
    "name": "ipython",
    "version": 3
   },
   "file_extension": ".py",
   "mimetype": "text/x-python",
   "name": "python",
   "nbconvert_exporter": "python",
   "pygments_lexer": "ipython3",
   "version": "3.9.12"
  },
  "orig_nbformat": 4
 },
 "nbformat": 4,
 "nbformat_minor": 2
}
