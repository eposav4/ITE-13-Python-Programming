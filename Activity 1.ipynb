{
 "cells": [
  {
   "attachments": {},
   "cell_type": "markdown",
   "metadata": {},
   "source": [
    "## Python Code that Converts Celsius to Kelvin and Fahrenheit"
   ]
  },
  {
   "cell_type": "code",
   "execution_count": null,
   "metadata": {},
   "outputs": [],
   "source": [
    "#Function to convert Celsius to Kelvin\n",
    "def to_kelvin(var):\n",
    "    return var + 273.15\n",
    "\n",
    "#Function to convert Celsius to Fahrenheit\n",
    "def to_fahrenheit(var):\n",
    "    return var * 1.80 + 32.00\n",
    "\n",
    "#Input Statement to Enter the Celsius\n",
    "celsius = float(input(\"Enter a Tempereture Celsius: \"))\n",
    "\n",
    "#Check input if it is a non-negative float or integer number\n",
    "if celsius < 0:\n",
    "    print(\"Input Error\")\n",
    "else:\n",
    "    print(\"The value of Kelvin is\",to_kelvin(celsius))\n",
    "    print(\"The value of Fahrenheit is\",to_fahrenheit(celsius))\n"
   ]
  },
  {
   "attachments": {},
   "cell_type": "markdown",
   "metadata": {},
   "source": [
    "## Python Code that solves a 4-sided polygon's Perimeter and Area"
   ]
  },
  {
   "cell_type": "code",
   "execution_count": null,
   "metadata": {},
   "outputs": [],
   "source": [
    "#Function to solve the 4-sided Polygon\n",
    "#In this Function it will check if the length and width is for rectangle or square\n",
    "#It will return perimeter of a rectangle if length and Width is not the same otherwise it will return area of a square\n",
    "def rect_or_square(var1,var2):\n",
    "    if var1 == var2:\n",
    "        return \"The Area of a Square is\",var1*var2 #two return value\n",
    "    else:\n",
    "        return \"The Perimeter of a Rectangle is\",2*(var1+var2) #two return value\n",
    "\n",
    "#Input statement to Enter the Length and Width\n",
    "a = float(input(\"Enter the value of Length: \"))\n",
    "b = float(input(\"Enter the value of Width: \"))\n",
    "\n",
    "#Check if the value of length and Width is non-zero or non-negative integer and float\n",
    "if a<=0 or b <=0:\n",
    "    print(\"Input Error\")\n",
    "else:\n",
    "    text, value = rect_or_square(a,b)\n",
    "    print(text,value)"
   ]
  },
  {
   "attachments": {},
   "cell_type": "markdown",
   "metadata": {},
   "source": [
    "## Python Program that Converts PHP to USD or EUR or Japanese Yen"
   ]
  },
  {
   "cell_type": "code",
   "execution_count": null,
   "metadata": {},
   "outputs": [],
   "source": [
    "#Funtion to input the what currency to be converted and the currency value\n",
    "def input_state():\n",
    "  var_1 = input(\"Enter currency to be converted (USD, EUR,JY): \")\n",
    "  var_2 = float(input(\"Enter Php value: \"))\n",
    "  #Check if the currency is non-negative integer or float\n",
    "  if var_2 <= 0:\n",
    "    print(\"Input Error\")\n",
    "  else:\n",
    "    #Check if the inputted currency to be converted is correct\n",
    "    if (var_1 == \"USD\"):\n",
    "        print(\"The currency to USD is\", usd(var_2))\n",
    "    elif (var_1 == \"EUR\"):\n",
    "        print(\"The currency to EUR is\", eur(var_2))\n",
    "    elif (var_1 == \"JY\"):\n",
    "        print(\"The currency to JY is\", jy(var_2))\n",
    "    else:\n",
    "        print(\"Error Input\")\n",
    "\n",
    "#Function that return the converted Php to USD\n",
    "def usd(value):\n",
    "  convert = value * 0.018\n",
    "  return round(convert, 2)\n",
    "\n",
    "#Function that return the converted Php to EUR\n",
    "def eur(value):\n",
    "  convert = value * 0.01717\n",
    "  return round(convert, 2)\n",
    "\n",
    "#Function that return the converted Php to Japanese Yen\n",
    "def jy(value):\n",
    "  convert = value * 2.41456\n",
    "  return round(convert, 2)\n",
    "\n",
    "#Function Call\n",
    "input_state()\n"
   ]
  },
  {
   "attachments": {},
   "cell_type": "markdown",
   "metadata": {},
   "source": [
    "## Python Program to Classify the Traingle"
   ]
  },
  {
   "cell_type": "code",
   "execution_count": null,
   "metadata": {},
   "outputs": [],
   "source": [
    "#Function to Classify the Triangle\n",
    "def classify_triangle(angle1,angle2,angle3):\n",
    "  #Sum of the Three angles\n",
    "  sum_all = angle1+angle2+angle3\n",
    "  #Check the Triangle based on the three inputted integer angle number\n",
    "  if sum_all != 180:\n",
    "    return \"This is not a Triangle\"\n",
    "  elif angle1 < 90 and angle2 < 90 and angle3 < 90:\n",
    "    return \"This is an Acute Traingle\"\n",
    "  elif angle1 > 90 or angle2 > 90 or angle3 > 90:\n",
    "    return \"This is an Obtuse Traingle\"\n",
    "  elif angle1 == 90 or angle2 == 90 or angle3 == 90:\n",
    "    return \"This is a Right Traingle\"\n",
    "\n",
    "#User Input of the Three Angles\n",
    "ang_1 = int(input(\"Enter Angle 1:\"))\n",
    "ang_2 = int(input(\"Enter Angle 2:\"))\n",
    "ang_3 = int(input(\"Enter Angle 3:\"))\n",
    "\n",
    "#Check if the three angles are non-negative integer number\n",
    "if ang_1 <= 0 or ang_2 <=0 or ang_3 <=0:\n",
    "  print(\"Input Error\")\n",
    "else:\n",
    "  print(classify_triangle(ang_1,ang_2,ang_3))"
   ]
  }
 ],
 "metadata": {
  "kernelspec": {
   "display_name": "ite-13",
   "language": "python",
   "name": "python3"
  },
  "language_info": {
   "codemirror_mode": {
    "name": "ipython",
    "version": 3
   },
   "file_extension": ".py",
   "mimetype": "text/x-python",
   "name": "python",
   "nbconvert_exporter": "python",
   "pygments_lexer": "ipython3",
   "version": "3.9.12"
  },
  "orig_nbformat": 4
 },
 "nbformat": 4,
 "nbformat_minor": 2
}
