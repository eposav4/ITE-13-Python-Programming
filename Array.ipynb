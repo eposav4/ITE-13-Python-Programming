{
 "cells": [
  {
   "attachments": {},
   "cell_type": "markdown",
   "metadata": {},
   "source": [
    "## Creating a List"
   ]
  },
  {
   "cell_type": "code",
   "execution_count": null,
   "metadata": {},
   "outputs": [],
   "source": [
    "empty_list = [] #An empty List\n",
    "my_list = [\"Jane\", 20, 23, \"Richard\", 2.15, 1.00] #A List with 5 Element\n",
    "print(empty_list)\n",
    "print(my_list)"
   ]
  },
  {
   "attachments": {},
   "cell_type": "markdown",
   "metadata": {},
   "source": [
    "## Accessing List using Index"
   ]
  },
  {
   "cell_type": "code",
   "execution_count": null,
   "metadata": {},
   "outputs": [],
   "source": [
    "my_list = [\"Jane\", 20, 23, \"Richard\", 2.15, 1.00] #A List with 5 Element\n",
    "\n",
    "print(my_list[0]) #Accessing Index 0 Element\n",
    "print(my_list[-1]) #Accessing Last Element"
   ]
  },
  {
   "cell_type": "code",
   "execution_count": null,
   "metadata": {},
   "outputs": [],
   "source": [
    "my_list = [\"Jane\", 20, 23, \"Richard\", 2.15, 1.00] #A List with 5 Element\n",
    "\n",
    "print(my_list[1:4]) #Access only the Index 1 element and 4th Element in the list"
   ]
  },
  {
   "cell_type": "code",
   "execution_count": null,
   "metadata": {},
   "outputs": [],
   "source": [
    "my_list = [\"Jane\", 20, 23, \"Richard\", 2.15, 1.00] #A List with 5 Element\n",
    "\n",
    "print(len(my_list)) #Return the number of element on the list"
   ]
  },
  {
   "attachments": {},
   "cell_type": "markdown",
   "metadata": {},
   "source": [
    "## Modify the Element on the List"
   ]
  },
  {
   "cell_type": "code",
   "execution_count": null,
   "metadata": {},
   "outputs": [],
   "source": [
    "my_list = [\"Jane\", 20, 23, \"Richard\", 2.15, 1.00] #A List with 5 Element\n",
    "\n",
    "my_list[0] = 1.00 #Change the element in the index 0 into 1.00\n",
    "my_list[-1] = \"Jane\" #Change the last element into \"Jane\"\n",
    "print(my_list)"
   ]
  },
  {
   "cell_type": "code",
   "execution_count": null,
   "metadata": {},
   "outputs": [],
   "source": [
    "#Append Method\n",
    "my_list = [\"Jane\", 20, 23, \"Richard\", 2.15, 1.00] #A List with 5 Element\n",
    "\n",
    "my_list.append(320) #Append 320 element in the list\n",
    "print(my_list) #Output will be ['Jane', 20, 23, 'Richard', 2.15, 1.0, 320]"
   ]
  },
  {
   "cell_type": "code",
   "execution_count": null,
   "metadata": {},
   "outputs": [],
   "source": [
    "#Remove Method\n",
    "my_list = [\"Jane\", 20, 23, \"Richard\", 2.15, 1.00] #A List with 5 Element\n",
    "\n",
    "my_list.remove(\"Richard\") #Remove Richard element in the list\n",
    "print(my_list) #Output will be ['Jane', 20, 23, 2.15, 1.0]"
   ]
  },
  {
   "cell_type": "code",
   "execution_count": null,
   "metadata": {},
   "outputs": [],
   "source": [
    "#Pop Method\n",
    "my_list = [\"Jane\", 20, 23, \"Richard\", 2.15, 1.00] #A List with 5 Element\n",
    "\n",
    "my_list.pop(1) #Remove index 1 element in the list\n",
    "print(my_list) #Output will be ['Jane', 23, 'Richard', 2.15, 1.0]"
   ]
  },
  {
   "attachments": {},
   "cell_type": "markdown",
   "metadata": {},
   "source": [
    "#### Visit this website for more List Method https://www.w3schools.com/python/python_arrays.asp"
   ]
  },
  {
   "attachments": {},
   "cell_type": "markdown",
   "metadata": {},
   "source": [
    "## Looping Python List"
   ]
  },
  {
   "cell_type": "code",
   "execution_count": null,
   "metadata": {},
   "outputs": [],
   "source": [
    "#Display the elements on the list using While Loop\n",
    "my_list = [\"Jane\", 20, 23, \"Richard\", 2.15, 1.00] #A List with 5 Element\n",
    "i = 0\n",
    "\n",
    "while i<len(my_list):\n",
    "    print(my_list[i])#Display element of the list\n",
    "    i+=1"
   ]
  },
  {
   "cell_type": "code",
   "execution_count": null,
   "metadata": {},
   "outputs": [],
   "source": [
    "#Display the elements on the list using While Loop with their index\n",
    "my_list = [\"Jane\", 20, 23, \"Richard\", 2.15, 1.00] #A List with 5 Element\n",
    "i = 0\n",
    "\n",
    "while i<len(my_list):\n",
    "    print(i,\"-\",my_list[i])#Display element of the list with thier coressponding index\n",
    "    i+=1"
   ]
  },
  {
   "cell_type": "code",
   "execution_count": null,
   "metadata": {},
   "outputs": [],
   "source": [
    "#Display the elements on the list using For Loop\n",
    "my_list = [\"Jane\", 20, 23, \"Richard\", 2.15, 1.00] #A List with 5 Element\n",
    "for item in my_list:\n",
    "    print(item)"
   ]
  },
  {
   "cell_type": "code",
   "execution_count": null,
   "metadata": {},
   "outputs": [],
   "source": [
    "#For Loop using enumerate function to retrieve their index of the element\n",
    "my_list = [\"Jane\", 20, 23, \"Richard\", 2.15, 1.00] #A List with 5 Element\n",
    "for index,item in enumerate(my_list):\n",
    "    print(index,\"-\",item)\n"
   ]
  },
  {
   "attachments": {},
   "cell_type": "markdown",
   "metadata": {},
   "source": [
    "## Accessing 2D List"
   ]
  },
  {
   "cell_type": "code",
   "execution_count": null,
   "metadata": {},
   "outputs": [],
   "source": [
    "two_d = [ [1,2,3],[\"Hello\",\"World\",\"!\"],[4,5,6] ] #We can call this Nested List\n",
    "\n",
    "print(two_d[-1][-1])# two_d[index][sub-index]\n",
    "print(two_d[1][1])"
   ]
  },
  {
   "attachments": {},
   "cell_type": "markdown",
   "metadata": {},
   "source": [
    "## Modifying the 2D List"
   ]
  },
  {
   "cell_type": "code",
   "execution_count": null,
   "metadata": {},
   "outputs": [],
   "source": [
    "two_d = [ [1,2,3],[\"Hello\",\"World\",\"!\"],[4,5,6] ] #We can call this Nested List\n",
    "# two_d[index][sub-index]\n",
    "two_d[1][1] = 7\n",
    "two_d[0][2] = \"Hello\"\n",
    "\n",
    "print(two_d)"
   ]
  },
  {
   "cell_type": "code",
   "execution_count": null,
   "metadata": {},
   "outputs": [],
   "source": [
    "#Append Method in 2D list\n",
    "two_d = [ [1,2,3],[\"Hello\",\"World\",\"!\"],[4,5,6] ] #We can call this Nested List\n",
    "\n",
    "two_d.append([\"2019\",2019,20.19])#Append new list\n",
    "two_d.append(\"Richard\") #You can append a non-list\n",
    "\n",
    "print(two_d)"
   ]
  },
  {
   "cell_type": "code",
   "execution_count": null,
   "metadata": {},
   "outputs": [],
   "source": [
    "#Remove Method in 2D list\n",
    "two_d = [ [1,2,3],[\"Hello\",\"World\",\"!\"],[4,5,6] ] #We can call this Nested List\n",
    "\n",
    "two_d.remove([\"Hello\",\"World\",\"!\"]) #Remove the second element(list) in the two_d list\n",
    "\n",
    "print(two_d)"
   ]
  },
  {
   "cell_type": "code",
   "execution_count": null,
   "metadata": {},
   "outputs": [],
   "source": [
    "#Pop Method in 2D list\n",
    "two_d = [ [1,2,3],[\"Hello\",\"World\",\"!\"],[4,5,6] ] #We can call this Nested List\n",
    "\n",
    "two_d[1].pop(2) #first bracket is the index of the two_d list and second bracket is the index of the second element of two_d list\n",
    "\n",
    "print(two_d)"
   ]
  },
  {
   "attachments": {},
   "cell_type": "markdown",
   "metadata": {},
   "source": [
    "##### You can apply the list method in 1D list. But some of the method has different implementation. You can search another tutorial site for 2D List method"
   ]
  },
  {
   "attachments": {},
   "cell_type": "markdown",
   "metadata": {},
   "source": [
    "## Looping 2D List"
   ]
  },
  {
   "cell_type": "code",
   "execution_count": null,
   "metadata": {},
   "outputs": [],
   "source": [
    "two_d = [ [1,2,3],[\"Hello\",\"World\",\"!\"],[4,5,6] ] #We can call this Nested List\n",
    "\n",
    "for item in two_d:\n",
    "    for element in item:\n",
    "        print(element,end=\" \")#Using end argument in the print statement to remove the newline"
   ]
  },
  {
   "cell_type": "code",
   "execution_count": null,
   "metadata": {},
   "outputs": [],
   "source": [
    "#For Loop using enumerate function to retrieve their index of the element\n",
    "two_d = [ [1,2,3],[\"Hello\",\"World\",\"!\"],[4,5,6] ] #We can call this Nested List\n",
    "\n",
    "for outer_index,outer_element in enumerate(two_d):\n",
    "    print(\"Outer Index\",outer_index,\":\")\n",
    "    for inner_index,inner_element in enumerate(outer_element):\n",
    "        print(\"Inner Index\",inner_index,\"==\",inner_element,end=\" \")\n",
    "    print(\"\")\n",
    "    "
   ]
  },
  {
   "attachments": {},
   "cell_type": "markdown",
   "metadata": {},
   "source": [
    "## Passing Array to the Function"
   ]
  },
  {
   "cell_type": "code",
   "execution_count": null,
   "metadata": {},
   "outputs": [],
   "source": [
    "#A Function that checks the inputted number is exist in the list or not\n",
    "\n",
    "def checked_element(item,num): #Paramter (list,inputted_number)\n",
    "    for index,element in enumerate(item):\n",
    "        if element == num: #Condition to check the the inputted number is exist in the list\n",
    "            print(num,\"is found at index\",index)\n",
    "            break #Break the loop if the inputted number is exist in the list\n",
    "    else:\n",
    "        print(num,\"is not found\") #print if the inputted number is not exist in the list\n",
    "\n",
    "\n",
    "my_list = [12, 20, 23, 33, 2.15, 1.00] #A List with 6 Element\n",
    "\n",
    "check = int(input(\"Enter integer number: \"))\n",
    "\n",
    "checked_element(my_list,check) #Function call with two arguments (list,inputted_number)"
   ]
  }
 ],
 "metadata": {
  "kernelspec": {
   "display_name": "ite-13",
   "language": "python",
   "name": "python3"
  },
  "language_info": {
   "codemirror_mode": {
    "name": "ipython",
    "version": 3
   },
   "file_extension": ".py",
   "mimetype": "text/x-python",
   "name": "python",
   "nbconvert_exporter": "python",
   "pygments_lexer": "ipython3",
   "version": "3.9.12"
  },
  "orig_nbformat": 4
 },
 "nbformat": 4,
 "nbformat_minor": 2
}
