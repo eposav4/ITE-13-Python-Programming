{
 "cells": [
  {
   "cell_type": "markdown",
   "metadata": {},
   "source": [
    "## While Loop"
   ]
  },
  {
   "cell_type": "code",
   "execution_count": null,
   "metadata": {},
   "outputs": [],
   "source": [
    "#While Loop\n",
    "i = 0 \n",
    "\n",
    "#Print Hello Students! 5x\n",
    "while i<5:\n",
    "    print(\"Hello Students!\")\n",
    "    i+=1\n"
   ]
  },
  {
   "cell_type": "code",
   "execution_count": null,
   "metadata": {},
   "outputs": [],
   "source": [
    "#Make use of Variable i for displaying a series of number\n",
    "\n",
    "#Ascending Order\n",
    "i=0\n",
    "while i<=5:\n",
    "    print(\"Ascending Number\",i)\n",
    "    i+=1\n",
    "print(\"--------\")\n",
    "\n",
    "#Descending Order\n",
    "a=5\n",
    "while a>=0:\n",
    "    print(\"Descending Number\",a)\n",
    "    a-=1 #To Decrement"
   ]
  },
  {
   "cell_type": "code",
   "execution_count": null,
   "metadata": {},
   "outputs": [],
   "source": [
    "#User Input While Loop\n",
    "\n",
    "start = int(input(\"Enter Starting point: \"))\n",
    "end = int(input(\"Enter Ending Point: \"))\n",
    "\n",
    "while start<=end:\n",
    "    print(start)\n",
    "    start+=1"
   ]
  },
  {
   "cell_type": "markdown",
   "metadata": {},
   "source": [
    "## For Loop"
   ]
  },
  {
   "cell_type": "code",
   "execution_count": null,
   "metadata": {},
   "outputs": [],
   "source": [
    "#For Loop\n",
    "#Print Hello Students 5x\n",
    "for i in range(5):\n",
    "    print(\"Hello Students!\")"
   ]
  },
  {
   "cell_type": "code",
   "execution_count": null,
   "metadata": {},
   "outputs": [],
   "source": [
    "#Define the start point in range fuction\n",
    "\n",
    "for c in range(5,10): # range([start],[end])\n",
    "    print(\"Number\",c)"
   ]
  },
  {
   "cell_type": "code",
   "execution_count": null,
   "metadata": {},
   "outputs": [],
   "source": [
    "#Make use of Variable b for displaying a series of number\n",
    "\n",
    "#Asceding Order\n",
    "for b in range(0,6):\n",
    "    print(\"Ascending Order\",b)\n",
    "\n",
    "print(\"---------\")\n",
    "\n",
    "#Descending Order\n",
    "for g in range(5,0,-1): #range([start],[end],[movement]) Note: -1 means decrease the number by 1, 1 means increse the number by 1\n",
    "    print(\"Descending Number\",g)\n"
   ]
  },
  {
   "cell_type": "code",
   "execution_count": null,
   "metadata": {},
   "outputs": [],
   "source": [
    "#User Input For Loop\n",
    "start = int(input(\"Enter Starting Point: \"))\n",
    "end = int(input(\"Enter Ending Point: \"))\n",
    "\n",
    "for number in range(start,end+1): #range(start,end-1,movement) start<end\n",
    "    print(number)"
   ]
  },
  {
   "cell_type": "markdown",
   "metadata": {},
   "source": [
    "## Break Statement"
   ]
  },
  {
   "cell_type": "code",
   "execution_count": null,
   "metadata": {},
   "outputs": [],
   "source": []
  },
  {
   "cell_type": "markdown",
   "metadata": {},
   "source": [
    "## Continue"
   ]
  },
  {
   "cell_type": "code",
   "execution_count": null,
   "metadata": {},
   "outputs": [],
   "source": []
  },
  {
   "cell_type": "markdown",
   "metadata": {},
   "source": [
    "## Nested Loop"
   ]
  },
  {
   "cell_type": "code",
   "execution_count": null,
   "metadata": {},
   "outputs": [],
   "source": []
  }
 ],
 "metadata": {
  "kernelspec": {
   "display_name": "Python 3 (ipykernel)",
   "language": "python",
   "name": "python3"
  },
  "language_info": {
   "codemirror_mode": {
    "name": "ipython",
    "version": 3
   },
   "file_extension": ".py",
   "mimetype": "text/x-python",
   "name": "python",
   "nbconvert_exporter": "python",
   "pygments_lexer": "ipython3",
   "version": "3.9.12"
  }
 },
 "nbformat": 4,
 "nbformat_minor": 2
}
