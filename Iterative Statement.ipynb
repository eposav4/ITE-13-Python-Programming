{
 "cells": [
  {
   "cell_type": "markdown",
   "metadata": {},
   "source": [
    "## While Loop"
   ]
  },
  {
   "cell_type": "code",
   "execution_count": null,
   "metadata": {},
   "outputs": [],
   "source": [
    "#While Loop\n",
    "i = 0 \n",
    "\n",
    "#Print Hello Students! 5x\n",
    "while i<5:\n",
    "    print(\"Hello Students!\")\n",
    "    i+=1"
   ]
  },
  {
   "cell_type": "code",
   "execution_count": null,
   "metadata": {},
   "outputs": [],
   "source": [
    "#Make use of Variable i for displaying a series of number\n",
    "\n",
    "#Ascending Order\n",
    "i=0\n",
    "while i<=5:\n",
    "    print(\"Ascending Number\",i)\n",
    "    i+=1\n",
    "print(\"--------\")\n",
    "\n",
    "#Descending Order\n",
    "a=5\n",
    "while a>=0:\n",
    "    print(\"Descending Number\",a)\n",
    "    a-=1 #To Decrement"
   ]
  },
  {
   "cell_type": "code",
   "execution_count": null,
   "metadata": {},
   "outputs": [],
   "source": [
    "#User Input While Loop\n",
    "\n",
    "start = int(input(\"Enter Starting point: \"))\n",
    "end = int(input(\"Enter Ending Point: \"))\n",
    "\n",
    "while start<=end:\n",
    "    print(start)\n",
    "    start+=1"
   ]
  },
  {
   "cell_type": "markdown",
   "metadata": {},
   "source": [
    "## For Loop"
   ]
  },
  {
   "cell_type": "code",
   "execution_count": null,
   "metadata": {},
   "outputs": [],
   "source": [
    "#For Loop\n",
    "#Print Hello Students 5x\n",
    "for i in range(5):\n",
    "    print(\"Hello Students!\")"
   ]
  },
  {
   "cell_type": "code",
   "execution_count": null,
   "metadata": {},
   "outputs": [],
   "source": [
    "#Define the start point in range fuction\n",
    "\n",
    "for c in range(5,10): # range([start],[end])\n",
    "    print(\"Number\",c)"
   ]
  },
  {
   "cell_type": "code",
   "execution_count": null,
   "metadata": {},
   "outputs": [],
   "source": [
    "#Make use of Variable b for displaying a series of number\n",
    "\n",
    "#Asceding Order\n",
    "for b in range(0,6):\n",
    "    print(\"Ascending Order\",b)\n",
    "\n",
    "print(\"---------\")\n",
    "\n",
    "#Descending Order\n",
    "for g in range(5,0,-1): #range([start],[end],[movement]) Note: -1 means decrease the number by 1, 1 means increse the number by 1\n",
    "    print(\"Descending Number\",g)"
   ]
  },
  {
   "cell_type": "code",
   "execution_count": null,
   "metadata": {},
   "outputs": [],
   "source": [
    "#User Input For Loop\n",
    "start = int(input(\"Enter Starting Point: \"))\n",
    "end = int(input(\"Enter Ending Point: \"))\n",
    "\n",
    "for number in range(start,end+1): #range(start,end-1,movement) start<end\n",
    "    print(number)"
   ]
  },
  {
   "cell_type": "markdown",
   "metadata": {},
   "source": [
    "## Break Statement"
   ]
  },
  {
   "cell_type": "code",
   "execution_count": null,
   "metadata": {},
   "outputs": [],
   "source": [
    "#Break Statement in While Loop\n",
    "\n",
    "i=0 #Start Point\n",
    "\n",
    "while i<=10: #Loop ends at 10\n",
    "    if i >= 5: # Check if the iteration reach at 5\n",
    "        print(\"Stop Iteration at\",i) #Print message when reaching at iteration 5\n",
    "        break #Stop or Break the While Loop\n",
    "    else:\n",
    "        print(\"Iterate at\",i) #Print if the iteration is not reached by 5\n",
    "        i+=1"
   ]
  },
  {
   "cell_type": "code",
   "execution_count": null,
   "metadata": {},
   "outputs": [],
   "source": [
    "#The Boolean Datatype only accepts two values: True and False.\n",
    "#In this case we can use the boolean value in the while condition\n",
    "\n",
    "while True: #This will be an infinite loop.\n",
    "  var_1 = int(input(\"Enter #: \")) # User Input that accepts integer only\n",
    "  if var_1 < 0: #Check if the user input is a negative number\n",
    "    print(\"Loop is Terminated\")\n",
    "    break #Loop break/stop when user enter negative number"
   ]
  },
  {
   "cell_type": "code",
   "execution_count": null,
   "metadata": {},
   "outputs": [],
   "source": [
    "#Break Statement in For Loop\n",
    "\n",
    "for range_num in range(10): #Range to 0 -> 9 \n",
    "    if range_num >= 5: # Check if the iteration reach at 5\n",
    "        print(\"Iteration stop at\",range_num) #Print message when reaching at iteration 5\n",
    "        break #Stop or Break the While Loop\n",
    "    else:\n",
    "        print(\"Iterate at\",range_num) #Print if the iteration is not reached by 5"
   ]
  },
  {
   "cell_type": "markdown",
   "metadata": {},
   "source": [
    "## Continue"
   ]
  },
  {
   "cell_type": "code",
   "execution_count": null,
   "metadata": {},
   "outputs": [],
   "source": [
    "#Continue Statement in While Loop\n",
    "\n",
    "i=0 #Start Point\n",
    "\n",
    "while i<=10:#Loop Ends at 10\n",
    "    print(\"Iterate at\",i) #Print message untile the loop stops \n",
    "    i+=1\n",
    "    continue # Continue Statement\n",
    "    print(\"Hello There!!\") #The message will be skipped, and it will not display in the console."
   ]
  },
  {
   "cell_type": "code",
   "execution_count": null,
   "metadata": {},
   "outputs": [],
   "source": [
    "i = 0 #Start Point\n",
    "\n",
    "while i<=5: #Loop Ends at 5\n",
    "  \n",
    "  if i == 2 or i == 4: #Check if the iteration reach at 2 or 4\n",
    "    i+=1\n",
    "    continue # Continue Statement or Skip the iteration at 2 and 4\n",
    "  print(\"Number\", i) # Print the iteration if it is not 2 or 4\n",
    "  i+=1"
   ]
  },
  {
   "cell_type": "code",
   "execution_count": null,
   "metadata": {},
   "outputs": [],
   "source": [
    "#Continue Statement in For Loop\n",
    "for iterate in range(10):\n",
    "    if iterate == 2 or iterate == 4 or iterate == 6 or iterate == 8 or iterate == 10: #Check if the iteration reach at 2 or 4 or 6 or 8 or 10\n",
    "        continue # Continue Statement or Skip the iteration at 2, 4, 6, 8 and 10\n",
    "    print(\"Iterate at\",iterate) # Print the not-skipping iteration number"
   ]
  },
  {
   "cell_type": "markdown",
   "metadata": {},
   "source": [
    "## Nested Loop"
   ]
  },
  {
   "cell_type": "code",
   "execution_count": null,
   "metadata": {},
   "outputs": [],
   "source": [
    "#Use the end argument in the print statement to eliminate the newline\n",
    "print(1, end=\" \")\n",
    "print(2, end=\" \")\n",
    "print(3)"
   ]
  },
  {
   "cell_type": "code",
   "execution_count": null,
   "metadata": {},
   "outputs": [],
   "source": [
    "#Nested For Loop\n",
    "for outer in range(5): # Outer Loop with a range of 0 to 4\n",
    "  for inner in range(3):# Inner Loop with a range of 0 to 2\n",
    "    print(\"Outer Loop range number:\",outer,end=\" \") #Print the range of outer loop\n",
    "    print(\"Inner Loop range number:\",inner) #Print the range of inner loop\n",
    "  print(\"\") #Give Space or new line when the inner loop finished iteration"
   ]
  },
  {
   "cell_type": "code",
   "execution_count": null,
   "metadata": {},
   "outputs": [],
   "source": [
    "#Square or Rectangle pattern using Nested For Loop\n",
    "for outer in range(5): # Outer Loop is responsible of hight of the pattern\n",
    "  for inner in range(5):# Inner Loop is responsible of width of the pattern\n",
    "    print(\"*\",end=\" \")\n",
    "  print(\"\")\n"
   ]
  }
 ],
 "metadata": {
  "kernelspec": {
   "display_name": "Python 3 (ipykernel)",
   "language": "python",
   "name": "python3"
  },
  "language_info": {
   "codemirror_mode": {
    "name": "ipython",
    "version": 3
   },
   "file_extension": ".py",
   "mimetype": "text/x-python",
   "name": "python",
   "nbconvert_exporter": "python",
   "pygments_lexer": "ipython3",
   "version": "3.9.12"
  }
 },
 "nbformat": 4,
 "nbformat_minor": 2
}
