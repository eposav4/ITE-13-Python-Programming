{
 "cells": [
  {
   "attachments": {},
   "cell_type": "markdown",
   "metadata": {},
   "source": [
    "Python Functions"
   ]
  },
  {
   "cell_type": "code",
   "execution_count": 1,
   "metadata": {},
   "outputs": [
    {
     "name": "stdout",
     "output_type": "stream",
     "text": [
      "Hello World!\n"
     ]
    }
   ],
   "source": [
    "def say_hello():\n",
    "    print(\"Hello World!\")\n",
    "\n",
    "say_hello()"
   ]
  },
  {
   "attachments": {},
   "cell_type": "markdown",
   "metadata": {},
   "source": [
    "Parameterts and Arguments"
   ]
  },
  {
   "cell_type": "code",
   "execution_count": 11,
   "metadata": {},
   "outputs": [
    {
     "name": "stdout",
     "output_type": "stream",
     "text": [
      "Hello my name is Alice\n"
     ]
    }
   ],
   "source": [
    "def par_args(var_1): #Parameter (var_1)\n",
    "    print(\"Hello my name is\",var_1)\n",
    "\n",
    "par_args(\"Alice\")# Argument (\"Alice\")\n",
    "\n"
   ]
  },
  {
   "cell_type": "code",
   "execution_count": 17,
   "metadata": {},
   "outputs": [
    {
     "name": "stdout",
     "output_type": "stream",
     "text": [
      "Hello my name is Ed\n",
      "Hello there Ted\n"
     ]
    }
   ],
   "source": [
    "def par_args(var_1,var_2): # Parameters (var_1,var_2)\n",
    "    print(\"Hello my name is\",var_1)\n",
    "    print(\"Hello there\",var_2)\n",
    "\n",
    "par_args(\"Ed\",\"Ted\")# Arguments (\"Alice\",\"Juan\")"
   ]
  },
  {
   "cell_type": "code",
   "execution_count": 20,
   "metadata": {},
   "outputs": [
    {
     "name": "stdout",
     "output_type": "stream",
     "text": [
      "The first data is Ted\n",
      "The second data is William\n"
     ]
    }
   ],
   "source": [
    "def user_input(var_1,var_2):#Parameter\n",
    "    print(\"The first data is\",var_1)\n",
    "    print(\"The second data is\",var_2)\n",
    "\n",
    "user_1 = input(\"Enter a data: \") # User Input\n",
    "user_2 = input(\"Enter a data:\") # User Input\n",
    "user_input(user_1,user_2)#Argument"
   ]
  },
  {
   "attachments": {},
   "cell_type": "markdown",
   "metadata": {},
   "source": [
    "Return Statement"
   ]
  },
  {
   "cell_type": "code",
   "execution_count": 21,
   "metadata": {},
   "outputs": [
    {
     "name": "stdout",
     "output_type": "stream",
     "text": [
      "The sum of two numbers is 50\n"
     ]
    }
   ],
   "source": [
    "def return_statement(var_1,var_2):# Parameter\n",
    "    result = var_1 + var_2\n",
    "    return result #Return Statement\n",
    "\n",
    "a = int(input(\"Enter first number: \")) # User Input 1\n",
    "b = int(input(\"Enter second number: \"))# User Input 2\n",
    "\n",
    "sum_of_two_numbers = return_statement(a,b)# Function Call\n",
    "print(\"The sum of two numbers is\",sum_of_two_numbers) # Print Result"
   ]
  },
  {
   "cell_type": "code",
   "execution_count": 25,
   "metadata": {},
   "outputs": [
    {
     "name": "stdout",
     "output_type": "stream",
     "text": [
      "The sum of two numbers is 12\n"
     ]
    }
   ],
   "source": [
    "def return_statement(var_1,var_2):# Parameter\n",
    "    result = var_1 + var_2\n",
    "    return result #Return Statement\n",
    "\n",
    "a = int(input(\"Enter first number: \")) # User Input 1\n",
    "b = int(input(\"Enter second number: \"))# User Input 2\n",
    "\n",
    "print(\"The sum of two numbers is\",return_statement(a,b)) # Print Result"
   ]
  },
  {
   "attachments": {},
   "cell_type": "markdown",
   "metadata": {},
   "source": [
    "Return Mulitple Values"
   ]
  },
  {
   "cell_type": "code",
   "execution_count": 27,
   "metadata": {},
   "outputs": [
    {
     "name": "stdout",
     "output_type": "stream",
     "text": [
      "The sum of two numbers is 15\n",
      "The difference of two numbers is 5\n"
     ]
    }
   ],
   "source": [
    "def return_statement(var_1,var_2):# Parameter\n",
    "    result = var_1 + var_2\n",
    "    result1 = var_1 - var_2\n",
    "    return result, result1 #Return Statement\n",
    "\n",
    "a = int(input(\"Enter first number: \")) # User Input 1\n",
    "b = int(input(\"Enter second number: \"))# User Input 2\n",
    "\n",
    "res_1, res_2 = return_statement(a,b)\n",
    "print(\"The sum of two numbers is\",res_1) # Print Result\n",
    "print(\"The difference of two numbers is\",res_2) # Print Result"
   ]
  },
  {
   "attachments": {},
   "cell_type": "markdown",
   "metadata": {},
   "source": [
    "Code in 115.jpg at Number 1"
   ]
  },
  {
   "cell_type": "code",
   "execution_count": 2,
   "metadata": {},
   "outputs": [
    {
     "name": "stdout",
     "output_type": "stream",
     "text": [
      "The square of a number is 9\n"
     ]
    }
   ],
   "source": [
    "#First Function\n",
    "def input_data():\n",
    "    a = int(input(\"Enter a data: \"))\n",
    "    compute(a)\n",
    "\n",
    "#2nd Function\n",
    "def compute(val):\n",
    "    result = val * val\n",
    "    display(result)\n",
    "\n",
    "#3rd Function\n",
    "def display(result):\n",
    "    print(\"The square of a number is\",result)\n",
    "\n",
    "input_data()"
   ]
  }
 ],
 "metadata": {
  "kernelspec": {
   "display_name": "ite-13",
   "language": "python",
   "name": "python3"
  },
  "language_info": {
   "codemirror_mode": {
    "name": "ipython",
    "version": 3
   },
   "file_extension": ".py",
   "mimetype": "text/x-python",
   "name": "python",
   "nbconvert_exporter": "python",
   "pygments_lexer": "ipython3",
   "version": "3.9.12"
  },
  "orig_nbformat": 4
 },
 "nbformat": 4,
 "nbformat_minor": 2
}
