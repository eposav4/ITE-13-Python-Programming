{
 "cells": [
  {
   "attachments": {},
   "cell_type": "markdown",
   "metadata": {},
   "source": [
    "## Creating a Set"
   ]
  },
  {
   "cell_type": "code",
   "execution_count": null,
   "metadata": {},
   "outputs": [],
   "source": [
    "#Create using a set using {}\n",
    "my_set = {3,2,1}\n",
    "my_set2 = {\"Apple\",\"Cherry\",\"Mango\"}\n",
    "print(my_set) #Output: {1, 2, 3}\n",
    "print(my_set2) #Output: {'Mango', 'Apple', 'Cherry'}"
   ]
  },
  {
   "cell_type": "code",
   "execution_count": null,
   "metadata": {},
   "outputs": [],
   "source": [
    "#Creating a Set using set()\n",
    "set_days=set([\"Mon\",\"Tue\",\"Wed\",\"Thu\",\"Fri\",\"Sat\",\"Sun\"])\n",
    "print(set_days)"
   ]
  },
  {
   "cell_type": "code",
   "execution_count": null,
   "metadata": {},
   "outputs": [],
   "source": [
    "#set will not accept the duplicate element.\n",
    "my_set = {1,1,2,3,2,3}\n",
    "print(my_set) #Output: {1, 2, 3}"
   ]
  },
  {
   "cell_type": "code",
   "execution_count": null,
   "metadata": {},
   "outputs": [],
   "source": [
    "#It will raise an error if you use indexing method in set\n",
    "#For Example\n",
    "my_set = {3,2,1}\n",
    "print(my_set[1]) #Output: Error"
   ]
  },
  {
   "cell_type": "code",
   "execution_count": null,
   "metadata": {},
   "outputs": [],
   "source": [
    "#Use len() method to access the number of elements in the set\n",
    "set_days=set([\"Mon\",\"Tue\",\"Wed\",\"Thu\",\"Fri\",\"Sat\",\"Sun\"])\n",
    "x = len(set_days) #Number of elements in set_days will be hold in x variable\n",
    "print(\"There are\",x,\"elements in the set\") #There are 7 elements in the set"
   ]
  },
  {
   "cell_type": "code",
   "execution_count": null,
   "metadata": {},
   "outputs": [],
   "source": [
    "#Empty Set\n",
    "my_set = {}\n",
    "print(my_set) #Output: {}"
   ]
  },
  {
   "attachments": {},
   "cell_type": "markdown",
   "metadata": {},
   "source": [
    "## Iterating a Set"
   ]
  },
  {
   "cell_type": "code",
   "execution_count": null,
   "metadata": {},
   "outputs": [],
   "source": [
    "#Accessing all elements in the set using for loop\n",
    "my_set = {1,2,3,\"one\",\"two\",\"three\",7.12}\n",
    "for element in my_set:\n",
    "    print(element,end=\" \") #Output: 1 2 3 three one two "
   ]
  },
  {
   "cell_type": "code",
   "execution_count": null,
   "metadata": {},
   "outputs": [],
   "source": [
    "#Looping a set with enumerate() function to access the index of the current arrangement of the set\n",
    "my_set = {1,2,3,\"one\",\"two\",\"three\"}\n",
    "for index,element in enumerate(my_set):\n",
    "    print(\"Index:\",index,\"Element:\",element)"
   ]
  },
  {
   "attachments": {},
   "cell_type": "markdown",
   "metadata": {},
   "source": [
    "## Set Methods"
   ]
  },
  {
   "cell_type": "code",
   "execution_count": null,
   "metadata": {},
   "outputs": [],
   "source": [
    "#Add Element to the set using the add() method\n",
    "my_set = {1,2,3,\"one\",\"two\",\"three\"}\n",
    "my_set.add(\"four\")\n",
    "print(my_set) #Output: {1, 2, 3, 'three', 'four', 'one', 'two'}"
   ]
  },
  {
   "cell_type": "code",
   "execution_count": null,
   "metadata": {},
   "outputs": [],
   "source": [
    "#Add set to another set using update() method\n",
    "my_set = {1,2,3,\"one\",\"two\",\"three\"}\n",
    "my_set2 = {\"Apple\",\"Cherry\",\"Mango\"}\n",
    "my_set.update(my_set2)\n",
    "print(my_set) #Output: {1, 2, 3, 'Cherry', 'Mango', 'two', 'Apple', 'three', 'one'}"
   ]
  },
  {
   "cell_type": "code",
   "execution_count": null,
   "metadata": {},
   "outputs": [],
   "source": [
    "#Remove a specific element in the set using remove() method\n",
    "my_set = {1,2,3,\"one\",\"two\",\"three\"}\n",
    "my_set.remove(3) #Remove element 3 in the set\n",
    "print(my_set) #Output: {1, 2, 'three', 'one', 'two'}"
   ]
  },
  {
   "cell_type": "code",
   "execution_count": null,
   "metadata": {},
   "outputs": [],
   "source": [
    "#Remove a specific element in the set using discard() method\n",
    "my_set = {1,2,3,\"one\",\"two\",\"three\"}\n",
    "my_set.discard(2) #Remove element 2 in the set\n",
    "print(my_set) #Output: {1, 3, 'three', 'one', 'two'}"
   ]
  },
  {
   "cell_type": "code",
   "execution_count": null,
   "metadata": {},
   "outputs": [],
   "source": [
    "#Using the pop() method will randomly remove the element from the set\n",
    "my_set = {1,2,3,\"one\",\"two\",\"three\"}\n",
    "my_set.pop()\n",
    "print(my_set)"
   ]
  },
  {
   "cell_type": "code",
   "execution_count": null,
   "metadata": {},
   "outputs": [],
   "source": [
    "#The difference between the discard() and remove() is that\n",
    "my_set = {1,2,3,\"one\",\"two\",\"three\"}\n",
    "my_set.remove(\"zero\") #remove() will raise an error if the item to be deleted does not exist\n",
    "my_set.discard(0) #whereas discard() will not cause an error\n",
    "print(my_set)"
   ]
  },
  {
   "cell_type": "code",
   "execution_count": null,
   "metadata": {},
   "outputs": [],
   "source": [
    "#We can apply some of the set operation in discrete mathematcs in python sets   \n",
    "my_set1 = {\"two\",1 , \"three\", 2, 3,\"one\"}\n",
    "my_set2 = {2, \"two\", 3, \"three\", \"four\", 4}\n",
    "\n",
    "# Union of two sets\n",
    "union_set = my_set1.union(my_set2)\n",
    "print(union_set)  # Output: {1, 2, 3, 4, 'four', 'two', 'three', 'one'}\n",
    "\n",
    "# Intersection of two sets\n",
    "intersection_set = my_set1.intersection(my_set2)\n",
    "print(intersection_set)  # Output: {'three', 2, 3, 'two'}\n",
    "\n",
    "# Difference of two sets\n",
    "difference_set = my_set1.difference(my_set2)\n",
    "print(difference_set)  # Output: {1, 'one'}"
   ]
  }
 ],
 "metadata": {
  "kernelspec": {
   "display_name": "ite-13",
   "language": "python",
   "name": "python3"
  },
  "language_info": {
   "codemirror_mode": {
    "name": "ipython",
    "version": 3
   },
   "file_extension": ".py",
   "mimetype": "text/x-python",
   "name": "python",
   "nbconvert_exporter": "python",
   "pygments_lexer": "ipython3",
   "version": "3.9.12"
  },
  "orig_nbformat": 4
 },
 "nbformat": 4,
 "nbformat_minor": 2
}
