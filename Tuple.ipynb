{
 "cells": [
  {
   "attachments": {},
   "cell_type": "markdown",
   "metadata": {},
   "source": [
    "## Creating Tuple"
   ]
  },
  {
   "cell_type": "code",
   "execution_count": null,
   "metadata": {},
   "outputs": [],
   "source": [
    "empty_tuple = () #Empty Tuple\n",
    "my_tuple = (1, 2, 3, \"hello\", 4.5) #Tuple with multiple data type variable\n",
    "my_tuple1 = 1,2,3,4 #Without parenthesis\n",
    "\n",
    "print(empty_tuple)\n",
    "print(my_tuple)\n",
    "print(my_tuple1)"
   ]
  },
  {
   "cell_type": "code",
   "execution_count": null,
   "metadata": {},
   "outputs": [],
   "source": [
    "my_tuple = (10,) #Tuple Datatype\n",
    "my_tuple1 =(10) #Int datatype\n",
    "\n",
    "type(my_tuple1)"
   ]
  },
  {
   "attachments": {},
   "cell_type": "markdown",
   "metadata": {},
   "source": [
    "## Accessing Tuple"
   ]
  },
  {
   "cell_type": "code",
   "execution_count": null,
   "metadata": {},
   "outputs": [],
   "source": [
    "my_tuple = (1, 2, 3, \"hello\", 4.5)\n",
    "print(my_tuple[0])    # Output: 1\n",
    "print(my_tuple[3])    # Output: \"hello\""
   ]
  },
  {
   "cell_type": "code",
   "execution_count": null,
   "metadata": {},
   "outputs": [],
   "source": [
    "my_tuple = (1, 2, 3, \"hello\", 4.5)\n",
    "print(my_tuple[-1])   # Output: 4.5\n",
    "print(my_tuple[-2])   # Output: \"hello\""
   ]
  },
  {
   "cell_type": "code",
   "execution_count": null,
   "metadata": {},
   "outputs": [],
   "source": [
    "my_tuple = (1, 2, 3, \"hello\", 4.5)\n",
    "print(my_tuple[1:4]) #Ouptut: (2, 3, 'hello')"
   ]
  },
  {
   "attachments": {},
   "cell_type": "markdown",
   "metadata": {},
   "source": [
    "## Tuple Operation"
   ]
  },
  {
   "cell_type": "code",
   "execution_count": null,
   "metadata": {},
   "outputs": [],
   "source": [
    "#Concatenate the 2 Tuples and stored in a new tuple\n",
    "tuple1 = (1, 2, 3)\n",
    "tuple2 = (\"hello\", \"world\")\n",
    "new_tuple = tuple1 + tuple2\n",
    "print(new_tuple)      # Output: (1, 2, 3, \"hello\", \"world\")\n"
   ]
  },
  {
   "cell_type": "code",
   "execution_count": null,
   "metadata": {},
   "outputs": [],
   "source": [
    "#Repeat the elements in a tuple\n",
    "my_tuple = (1, 2, 3)\n",
    "new_tuple = my_tuple * 3 #Repeat by 3\n",
    "print(new_tuple)      # Output: (1, 2, 3, 1, 2, 3, 1, 2, 3)"
   ]
  },
  {
   "cell_type": "code",
   "execution_count": null,
   "metadata": {},
   "outputs": [],
   "source": [
    "#Removing an element of a Tuple\n",
    "my_tuple = (1, 2, 3, 4, 5)\n",
    "\n",
    "# We cannot directly remove elements from the tuple\n",
    "# Instead, we create a new tuple by slicing the original tuple\n",
    "new_tuple = my_tuple[0:2] + my_tuple[3:5]\n",
    "\n",
    "print(new_tuple)   # Output: (1, 2, 4, 5)"
   ]
  },
  {
   "cell_type": "code",
   "execution_count": null,
   "metadata": {},
   "outputs": [],
   "source": [
    "#Update the element in a Tuple\n",
    "my_tuple = (1, 2, 3)\n",
    "\n",
    "# We cannot directly modify elements of the tuple\n",
    "# Instead, we create a new tuple by replacing the original element\n",
    "new_tuple = my_tuple[0:1] + (4,) + my_tuple[2:3]\n",
    "\n",
    "print(new_tuple)   # Output: (1, 4, 3)"
   ]
  },
  {
   "cell_type": "code",
   "execution_count": null,
   "metadata": {},
   "outputs": [],
   "source": [
    "#Count how many elements in the Tuple using len()\n",
    "my_tuple = (1, 2, 3, \"hello\", 4.5)\n",
    "print(len(my_tuple)) #Output: 5\n",
    "empty_tuple = ()\n",
    "print(len(empty_tuple)) #Output: 0"
   ]
  },
  {
   "cell_type": "code",
   "execution_count": null,
   "metadata": {},
   "outputs": [],
   "source": [
    "#Unpacking a Tuple\n",
    "my_tuple = (1, 2, 3)\n",
    "a, b, c = my_tuple\n",
    "print(a,end=\" \") # Output: 1\n",
    "print(b,end=\" \") # Output: 2\n",
    "print(c,end=\" \") # Output: 3"
   ]
  },
  {
   "cell_type": "code",
   "execution_count": null,
   "metadata": {},
   "outputs": [],
   "source": [
    "#Error unpacking Tuple\n",
    "my_tuple = (1, 2, 3)\n",
    "a, b = my_tuple     # Raises a ValueError"
   ]
  },
  {
   "cell_type": "code",
   "execution_count": null,
   "metadata": {},
   "outputs": [],
   "source": [
    "#Using * will unpack the rest of the element in the tuple\n",
    "my_tuple = (1, 2, 3, 4, 5)\n",
    "a, b, *rest = my_tuple #*rest will unpack the third to last element\n",
    "print(a, b)         # Output: 1 2\n",
    "print(rest)         # Output: [3, 4, 5]"
   ]
  },
  {
   "cell_type": "code",
   "execution_count": null,
   "metadata": {},
   "outputs": [],
   "source": [
    "my_tuple = (1, 2, 3, 4, 5)\n",
    "*first, b, c = my_tuple #*first will unpack the first to third element in the tuple\n",
    "print(first)        # Output: [1, 2, 3]\n",
    "print(b, c)         # Output: 4 5"
   ]
  },
  {
   "cell_type": "code",
   "execution_count": null,
   "metadata": {},
   "outputs": [],
   "source": [
    "my_tuple = (1, 2, 3, 4, 5)\n",
    "a, *middle, c = my_tuple #*middle will unpack the second to fourth element in the tuple\n",
    "print(middle)        # Output: [2, 3, 4]\n",
    "print(a, c)         # Output: 1 5"
   ]
  },
  {
   "cell_type": "code",
   "execution_count": null,
   "metadata": {},
   "outputs": [],
   "source": [
    "#Passing the tuple in the function and unpack the tuple on the function\n",
    "def my_function(a, b, c): #Function with three parameter\n",
    "    print(a, b, c)\n",
    "\n",
    "my_tuple = (1, 2, 3)\n",
    "my_function(*my_tuple)   # Output: 1 2 3"
   ]
  },
  {
   "attachments": {},
   "cell_type": "markdown",
   "metadata": {},
   "source": [
    "## Looping a Tuple"
   ]
  },
  {
   "cell_type": "code",
   "execution_count": null,
   "metadata": {},
   "outputs": [],
   "source": [
    "#Looping a Tuple using for loop\n",
    "my_tuple = (1, 2, 3, \"hello\", 4.5)\n",
    "\n",
    "for element in my_tuple:\n",
    "    print(element,end=\" \") #Output: 1 2 3 hello 4.5 "
   ]
  },
  {
   "cell_type": "code",
   "execution_count": null,
   "metadata": {},
   "outputs": [],
   "source": [
    "#Looping a tuple with enumerate() function to access the index of the elements\n",
    "my_tuple = (1, 2, 3, \"hello\", 4.5)\n",
    "\n",
    "for index, element in enumerate(my_tuple):\n",
    "    print(\"Index\",index,\"Has an element of\", element)"
   ]
  },
  {
   "cell_type": "code",
   "execution_count": null,
   "metadata": {},
   "outputs": [],
   "source": [
    "#Looping a Tuple using While loop\n",
    "my_tuple = (1, 2, 3, \"hello\", 4.5)\n",
    "i = 0\n",
    "while i<len(my_tuple):\n",
    "    print(\"Index\",i,\"has an element of\",my_tuple[i]) #Displays element and index value of the element in the Tuple\n",
    "    i+=1 #Incrementation"
   ]
  },
  {
   "attachments": {},
   "cell_type": "markdown",
   "metadata": {},
   "source": [
    "## 2D Tuple"
   ]
  },
  {
   "cell_type": "code",
   "execution_count": null,
   "metadata": {},
   "outputs": [],
   "source": [
    "my_2D_tuple = ((1, 2, 3), #2D tuple has the same format in 2D list\n",
    "            (4, 5, 6),\n",
    "            (7, 8, 9))\n",
    "\n",
    "for row in my_2D_tuple:\n",
    "    for col in row:\n",
    "        print(col, end=' ') #Output: 1 2 3 4 5 6 7 8 9 "
   ]
  },
  {
   "cell_type": "code",
   "execution_count": null,
   "metadata": {},
   "outputs": [],
   "source": [
    "#Looping 2D Tuple using enumerate() function to access the index and sub-index of the element\n",
    "my_2D_tuple = ( (1, 2, 3),\n",
    "            (4, 5, 6),\n",
    "            (7, 8, 9) )\n",
    "\n",
    "for i, row in enumerate(my_2D_tuple): #Access the tuple and index value\n",
    "    for j, col in enumerate(row): #Access the element and sub-index value\n",
    "        print(\"Index:\",i,\"Sub-index:\",j,\"Element:\",col)\n"
   ]
  },
  {
   "attachments": {},
   "cell_type": "markdown",
   "metadata": {},
   "source": [
    "## Passing Tuple to a Function"
   ]
  },
  {
   "cell_type": "code",
   "execution_count": null,
   "metadata": {},
   "outputs": [],
   "source": [
    "#Pass a Tuple in a function and loop it inside the function\n",
    "def tuple_func(item): #Function with parameter item\n",
    "    print(\"Loop tuple in a with indexes:\")\n",
    "\n",
    "    for index,elements in enumerate(item):\n",
    "        print(\"Index:\",index,\"Element:\",elements)#Print Index and the Element of the tuple\n",
    "\n",
    "\n",
    "my_tuple=(1, 2, 3, \"Hello\", 4.5, 5.9) #Set/Declare tuple\n",
    "\n",
    "tuple_func(my_tuple)#Function call with Argument of 'my_tuple' variable"
   ]
  },
  {
   "attachments": {},
   "cell_type": "markdown",
   "metadata": {},
   "source": [
    "## Passing Tuple to a function using Variable Length Argument (*args)"
   ]
  },
  {
   "cell_type": "code",
   "execution_count": null,
   "metadata": {},
   "outputs": [],
   "source": [
    "#Pass a Tuple in a function and loop it inside the function\n",
    "def tuple_func(*args): #Function with parameter of varable length argument\n",
    "    print(\"Loop tuple in a with indexes:\")\n",
    "\n",
    "    for index,elements in enumerate(args):\n",
    "        print(\"Index:\",index,\"Element:\",elements)#Print Index and the Element of the tuple\n",
    "\n",
    "\n",
    "tuple_func(1, 2, 3, \"Hello\", 4.5, 5.9)#Function call with Argument of sequence of data"
   ]
  }
 ],
 "metadata": {
  "kernelspec": {
   "display_name": "ite-13",
   "language": "python",
   "name": "python3"
  },
  "language_info": {
   "codemirror_mode": {
    "name": "ipython",
    "version": 3
   },
   "file_extension": ".py",
   "mimetype": "text/x-python",
   "name": "python",
   "nbconvert_exporter": "python",
   "pygments_lexer": "ipython3",
   "version": "3.9.12"
  },
  "orig_nbformat": 4
 },
 "nbformat": 4,
 "nbformat_minor": 2
}
